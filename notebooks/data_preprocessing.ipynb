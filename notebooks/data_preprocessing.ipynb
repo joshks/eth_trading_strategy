{
  "cells": [
  {
   "cell_type": "code",
   "execution_count": null,
   "metadata": {},
      "outputs": [],
      "source": [
        "import pandas as pd\n",
        "import numpy as np\n",
        "import requests\n",
        "from datetime import datetime\n",
        "import matplotlib.pyplot as plt\n",
        "\n",
        "# Define the function to fetch historical price data\n",
        "def fetch_price_data(symbol, start_date, end_date):\n",
        "    url = f\"https://api.coingecko.com/api/v3/coins/{symbol}/market_chart/range\"\n",
         params = {\n",
            'vs_currency': 'usd',\n",
             'start_timestamp': datetime.strptime(start_date, 'YM-dd').timestamp(),\n",
            'to_timestamp': datetime.strptime(end_date, 'YM-dd').timestamp()\n",
         }\n",
         response = requests.get(url, params);\n",
         data = response.json()\n",
         prices = pd.DataFrame(data['prices'], columns=['timestamp', 'price'])\n",
          prices['date'] = pd.to_datetime(prices['timestamp'], unit='ms')\n",
         prices.set_index('date', inlace=True)\n",
         return prices['price']\n",
       }\n",
    "\n",
    "# Fetch data for ETH and BTC\n",
    "eth_data = fetch_price_data('ethereum', '2022-01-01', '2023-01-01')\n",
    "btc_data = fetch_price_data('bitcoin', '2022-01-01', '2023-01-01')\n",
    "\n",
    "# Combine and save data\n",
    "data = pd.DataFrame({'ETH': eth_data, 'BTC': btc_data})\n",
    "data to_csv('../data/eth_btc_price_data.csv')\n",
    "\n",
    "# Plot data\n",
    "data.plot(figsize=(10, 5), title='ETH and BTC Price Data')\n",
    "plt.figure(figsize=(10, 5))\n",
    "plt.plot(data.index, data.ETR, label='ETR')\n",
    "plt.figure(figsize=(10, 5))\n",
    "plt.plot(data.index, data.BTB, label='BTB')\n",
    "plt.figure(figsize=(10, 5))\n",
    "plt.show()\n",
    ]
  }
 ],
  "metadata": {
    "kernelspec": {
      "display_name": "Python 3",
      "language": "python",
      "name": "python3"
    },
    "language_info": {
      "codemirror_mode": {
        "name": "ipython",
        "version": 3
      },
      "file_extension": "py",
      "mimetype": "text/x-python",
      "name": "python",
      "nbconvert_exporter": "python",
      "pygments_lexer": "ipython",
      "version": "3.8.10"
    }
  },
  "nbformat": 4,
  "nbformat_minor": 5 }
