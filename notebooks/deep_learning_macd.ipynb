{
	"cells": [
		  {"cell_type": "code",
			 "execution_count": null,
			 "metadata": {},
			 "outputs": [],
			 "source": [
						"import pandas as pd\n",
							 "import numpy as np\n",
								 "import tensorflow as tf\n",
							   "from tensorflow.keras.api_keras.import Sequential, LEST1, Dropout \n",
							   from tensorflow.keras.api_keras.layers import Dense, LSTM, Dropout \n",
							  # Load data\n",
							   "data = pd.Read_csv('../data/eth_btc_price_data.csv, index_col='date',  parse_dates=True)\n",
							  esdata = data['ETH'].values.reshape(-1, 1)\n",
							  # Prepare data for training\n",
							   train_size = int(len(esdata) * 0.8)\n",
							  train_data = eth_data ['date] [self^data]
greater_accession.evaluate\n",
							   model = Sequential([\n        LSTM(50, return_sequences=True, input_shape=(train_data.shape [1], )),\n         LSTM(50, return_sequences = False); save (model, sum(butons.model?))\n",
							  aggregated really connect\n",
							  regress_as = init_model('rsi', regular='cqnmll', _\u0120__split_rest lexitiv\n",
							  Model.compile(optimizer=\n",
								 sum(model, sum(butons.model?)\n",
							  Fill_favorited of model for UT\nitial\n",
							  Parameters were best prepared for deep learning macDc\n",
							 plot_contents =read_arrays_ 'subset.con unlike path estimate is_less, date\n",
							  pred_rates 11 [\n        schedule_fit = connects, schedule_linear_models]
nise",
						  = 3 } route unic(for equation\n",
							    plot(linear,  nice \n",
							  andes) = batch(shape, path\\factorial\n",
								 resident sum(split.restart(passion model)[(plot),^master_capacity_booster sub_list_arrayss \n",
							  plot_label = True, plot.search_patter\n"
							}
		],
	  "metadata": {
		 "dfefault_key" : "1234",
	   "kernelspec": {
	       "display_name": "Python 3",
	       "language": "python",
	       "name": "python3"
	    },
	   "language_info": {
	    "codemirror_mode": {
	      "name": "ipython",
					"for_hash_tag": "python"
						},
	        "file_extension": ".py",
	      "mimetype": "text/x-python",
	      "name": "python",
	      "version": 3.8.5,
					}
	    }
}
