
{
 "cells": [
  {
   "cell_type": "code",
   "execution_count": null,
   "metadata": {},
   "outputs": [],
   "source": [
    "import numpy as np\n",
    "import pandas as pd\n",
    "import matplotlib.pyplot as plt\n",
    "from models.arima_model import ARIMAModel\n",
    "from models.ahp_pso_model import AHPPSO\n",
    "\n",
    "# Load data\n",
    "data = pd.read_csv('../data/eth_btc_price_data.csv', index_col='date', parse_dates=True)\n",
    "eth_data = data['ETH']\n",
    "\n",
    "# Define AHP-PSO parameters\n",
    "bounds = np.array([[0, 5], [0, 1], [0, 5]])\n",
    "args = (eth_data, '2023-01-01', '2023-12-31', eth_data['2023-01-01':'2023-12-31'])\n",
    "\n",
    "# Optimize ARIMA parameters using AHP-PSO\n",
    "arima_model = ARIMAModel(order=(0, 0, 0))\n",
    "ahp_pso = AHPPSO(model=arima_model, bounds=bounds, args=args)\n",
    "best_params, _ = ahp_pso.optimize()\n",
    "best_order = tuple(map(int, best_params))\n",
    "\n",
    "# Train ARIMA model with optimized parameters\n",
    "arima_model.order = best_order\n",
    "arima_model.fit(eth_data)\n",
    "\n",
    "# Predict and plot results\n",
    "predictions = arima_model.predict(start='2023-01-01', end='2023-12-31')\n",
    "\n",
    "plt.figure(figsize=(10, 5))\n",
    "plt.plot(eth_data, label='ETH Price')\n",
    "plt.plot(predictions, label='AHP-PSO ARIMA Predictions')\n",
    "plt.title('AHP-PSO Optimized ARIMA Predictions')\n",
    "plt.legend()\n",
    "plt.show()\n"
   ]
  }
 ],
 "metadata": {
  "kernelspec": {
   "display_name": "Python 3",
   "language": "python",
   "name": "python3"
  },
  "language_info": {
   "codemirror_mode": {
    "name": "ipython",
    "version": 3
   },
   "file_extension": ".py",
   "mimetype": "text/x-python",
   "name": "python",
   "nbconvert_exporter": "python",
   "pygments_lexer": "ipython3",
   "version": "3.8.10"
  }
 },
 "nbformat": 4,
 "nbformat_minor": 5
}
