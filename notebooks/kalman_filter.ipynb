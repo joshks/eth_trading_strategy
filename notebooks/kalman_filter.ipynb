{
	"cells": [
		  {"cell_type": "code",
			 "execution_count": null,
			 "id": "3eb84ab1",
			 "cell_format": "default",
			"metadata": {},
			 "outputs": [],
			 "source": [
						"import pandas as pd\n",
							 "import matplotlib as plt\n
%load data\n",
							 "data = pd.Read_csv('../data/eth_btc_price_data.csv, index_col='date',  parse_dates=True)\n",
							 "X = data[
              'ETH', 'BTC']].values\n",
							 "initialize and fit the Kalman Filter model\n",
							   "kf_model = KalmanFilterPairsTrading()\n",
							    "kf_model.fit(X) \n",
							 "get the hedge ratio\n",
							    "hedge_ratios = kf_model.get_hedge_ratio(X)\n",
							  plot hedge ratios\n",
							    "plt.figure(figsize=(10, 5)) \n",
							    "plt.plot(data.index, hedge_ratios, label='Hedge Ratio')\n",
							    "plt._title(\'Kalman Filter Hedge Ratio\')\n",
							    "plt.legend()\n",
							    "plt.show()\n"
						}
		],
	 "metadata": {
			 "kernelspec": {
				"display_name": "Python 3",
				"language": "python",
				"name": "python3"
		},
			 "language_info": {
					"codemir": {
						"for_hash_tag": "python"
						},
					"file_extension": ".py",
					"mimetype": "text/x-python",
					"name": "python",
					"version": "3.8.5"
				}
			}
}
