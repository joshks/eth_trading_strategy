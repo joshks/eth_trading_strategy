{
  "cells": [
  {
   "cell_type": "code",
   "execution_count": null,
   "metadata": {},
   "outputs": [],
   "source": [
    "import pandas as pd\n",
    "import matplotlib.pyplot as plt\n",
    "from models.kalman_filter_model import KalmanFilterPairsTrading\n",
    "\n",
    "# Load data\n",
    "data = pd.read_csv('../data/eth_btc_price_data.csv', index_col='date', parse_dates=True)\n",
    "\n",
    "# Prepare data for Kalman Filter\n",
    "X = data[['ETH', 'BTC']].values\n",
    "\n",
    "# Initialize and fit the Kalman Filter model\n",
    "kf_model = KalmanFilterPairsTrading()\n",
    "kf_model.fit(X)\n",
    "\n",
    "# Get the hedge ratio\n",
    "hedge_ratios = kf_model.get_hedge_ratio(X)\n",
    "\n",
    "# Plot hedge ratios\n",
    "plt.figure(figsize=(10, 5))\n",
    "plt.plot(data.index, hedge_ratios, label='Hedge Ratio')\n",
    "plt.title('Kalman Filter Hedge Ratio')\n",
    "plt.legend()\n",
    "plt.show()\n"
   ]
  }
 ],
 "metadata": {
  "kernelspec": {
   "display_name": "Python 3",
   "language": "python",
   "name": "python3"
  },
  "language_info": {
   "codemirror_mode": {
    "name": "ipython",
    "version": 3
   },
   "file_extension": ".py",
    "mimetype": "text/x-python",
    "name": "python",
    "nbconvert_exporter": "python",
    "pygments_lexer": "ipython3",
    "version": "3.8.10"
  }
 },
 "nbformat": 4,
 "nbformat_minor": 5
}
