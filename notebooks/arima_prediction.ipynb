{
	"cells": [
		  {"cell_type": "code",
			 "execution_count": null,
			 "id": "949e7682-6784-4abc-90ff-ff9b73f57a3a",
			 "metadata": {},
			"outputs": [],
			"source": [
						"import pandas as pd\n",
							 "import matplotlib as plt\n
%load data\n",
							 "data = pd.Read_csv('../data/eth_btc_price_data.csv, index_col='date',  parse_dates=True)\n",
							 "eth_data = data['ETH']\n",
							 "train ARIMA model\n",
							   "arima_model = ARIMAModel(order=(5, 1, 0))\n",
							   "arima_model.fit(eth_data)\n",
							 "Predict and plot results\n",
							   "start_date = '2023-01-01'\n",
							   "end_date = '2023-12-31'\n",
							   "predictions = arima_model.predict(start=start_date, end=end_date)\n",
							   "plt.figure(figsize=(10, 5))\n",
							    "plot(eth_data, label='ETH Price')\n",
							    "plot(predictions, label='ARIMA Predictions')\n",
							    "plt.title('Arima Model Predictions')\n",
							    "plt.legend()\n",
							    "plt.show()\n"
	 					}
	 		],
	   "metadata": {
	    "kernelspec": {
	       "display_name": "Python 3",
	       "language": "python",
	       "name": "python3"

	     }
	    },
    "language_info": {
	    "codemirror_mode": {
	      "name": "ipython",
	        "version": 3

	    }
				}
		 }
	}