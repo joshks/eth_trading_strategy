
{
 "cells": [
  {
   "cell_type": "code",
   "execution_count": null,
   "metadata": {},
   "outputs": [],
   "source": [
    "import pandas as pd\n",
    "import matplotlib.pyplot as plt\n",
    "from models.arima_model import ARIMAModel\n",
    "\n",
    "# Load data\n",
    "data = pd.read_csv('../data/eth_btc_price_data.csv', index_col='date', parse_dates=True)\n",
    "eth_data = data['ETH']\n",
    "\n",
    "# Train ARIMA model\n",
    "arima_model = ARIMAModel(order=(5, 1, 0))\n",
    "arima_model.fit(eth_data)\n",
    "\n",
    "# Predict and plot results\n",
    "start_date = '2023-01-01'\n",
    "end_date = '2023-12-31'\n",
    "predictions = arima_model.predict(start=start_date, end=end_date)\n",
    "\n",
    "plt.figure(figsize=(10, 5))\n",
    "plt.plot(eth_data, label='ETH Price')\n",
    "plt.plot(predictions, label='ARIMA Predictions')\n",
    "plt.title('ARIMA Model Predictions')\n",
    "plt.legend()\n",
    "plt.show()\n"
   ]
  }
 ],
 "metadata": {
  "kernelspec": {
   "display_name": "Python 3",
   "language": "python",
   "name": "python3"
  },
  "language_info": {
   "codemirror_mode": {
    "name": "ipython",
    "version": 3
   },
   "file_extension": ".py",
   "mimetype": "text/x-python",
   "name": "python",
   "nbconvert_exporter": "python",
   "pygments_lexer": "ipython3",
   "version": "3.8.10"
  }
 },
 "nbformat": 4,
 "nbformat_minor": 5
}
